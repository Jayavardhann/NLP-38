{
 "cells": [
  {
   "cell_type": "code",
   "execution_count": 8,
   "id": "f1604c80",
   "metadata": {},
   "outputs": [],
   "source": [
    "#Data Manipulation\n",
    "import pandas as pd\n",
    "import numpy as np\n",
    "\n",
    "# Visualization\n",
    "import matplotlib.pyplot as plt \n",
    "import seaborn as sns"
   ]
  },
  {
   "cell_type": "code",
   "execution_count": 9,
   "id": "48c0f022",
   "metadata": {},
   "outputs": [],
   "source": [
    "#NLP for text pre-processing\n",
    "import nltk\n",
    "import scipy\n",
    "import re\n",
    "from scipy import spatial\n",
    "from nltk.tokenize.toktok import ToktokTokenizer\n",
    "from nltk.corpus import stopwords\n",
    "from nltk.tokenize import sent_tokenize, word_tokenize\n",
    "from nltk.stem import PorterStemmer\n",
    "tokenizer = ToktokTokenizer()"
   ]
  },
  {
   "cell_type": "code",
   "execution_count": 11,
   "id": "4977ec4e",
   "metadata": {},
   "outputs": [],
   "source": [
    "# other libraries\n",
    "import gensim\n",
    "from gensim.models import Word2Vec\n",
    "import itertools\n",
    "from sklearn.feature_extraction.text import TfidfVectorizer\n",
    "from sklearn.decomposition import PCA"
   ]
  },
  {
   "cell_type": "code",
   "execution_count": 12,
   "id": "502dd454",
   "metadata": {},
   "outputs": [],
   "source": [
    "# Import linear_kernel\n",
    "from sklearn.metrics.pairwise import linear_kernel"
   ]
  },
  {
   "cell_type": "code",
   "execution_count": 13,
   "id": "4cee05cb",
   "metadata": {},
   "outputs": [],
   "source": [
    "# remove warnings\n",
    "import warnings\n",
    "warnings.filterwarnings(action = 'ignore')"
   ]
  },
  {
   "cell_type": "code",
   "execution_count": 15,
   "id": "2d1ac740",
   "metadata": {},
   "outputs": [
    {
     "data": {
      "text/plain": [
       "(20000, 15)"
      ]
     },
     "execution_count": 15,
     "metadata": {},
     "output_type": "execute_result"
    }
   ],
   "source": [
    "data=pd.read_csv(\"flipkart_com-ecommerce_sample.csv\")\n",
    "data.head()\n",
    "data.shape"
   ]
  },
  {
   "cell_type": "code",
   "execution_count": 16,
   "id": "6d9eca30",
   "metadata": {},
   "outputs": [
    {
     "name": "stdout",
     "output_type": "stream",
     "text": [
      "<class 'pandas.core.frame.DataFrame'>\n",
      "RangeIndex: 20000 entries, 0 to 19999\n",
      "Data columns (total 15 columns):\n",
      " #   Column                   Non-Null Count  Dtype  \n",
      "---  ------                   --------------  -----  \n",
      " 0   uniq_id                  20000 non-null  object \n",
      " 1   crawl_timestamp          20000 non-null  object \n",
      " 2   product_url              20000 non-null  object \n",
      " 3   product_name             20000 non-null  object \n",
      " 4   product_category_tree    20000 non-null  object \n",
      " 5   pid                      20000 non-null  object \n",
      " 6   retail_price             19922 non-null  float64\n",
      " 7   discounted_price         19922 non-null  float64\n",
      " 8   image                    19997 non-null  object \n",
      " 9   is_FK_Advantage_product  20000 non-null  bool   \n",
      " 10  description              19998 non-null  object \n",
      " 11  product_rating           20000 non-null  object \n",
      " 12  overall_rating           20000 non-null  object \n",
      " 13  brand                    14136 non-null  object \n",
      " 14  product_specifications   19986 non-null  object \n",
      "dtypes: bool(1), float64(2), object(12)\n",
      "memory usage: 2.2+ MB\n"
     ]
    }
   ],
   "source": [
    "data.info()"
   ]
  },
  {
   "cell_type": "code",
   "execution_count": 17,
   "id": "6fcb7525",
   "metadata": {},
   "outputs": [],
   "source": [
    "data['length']=data['description'].str.len()"
   ]
  },
  {
   "cell_type": "code",
   "execution_count": 19,
   "id": "81f78ce3",
   "metadata": {},
   "outputs": [],
   "source": [
    "data['no_of_words'] = data.description.apply(lambda x : len(str(x).split()))"
   ]
  },
  {
   "cell_type": "code",
   "execution_count": 24,
   "id": "9532d263",
   "metadata": {},
   "outputs": [],
   "source": [
    "bins=[0,50,75, np.inf]\n",
    "data['bins']=pd.cut(data.no_of_words, bins=[0,100,300,500,800, np.inf], \n",
    "                    labels=['0-100', '100-200', '200-500','500-800' ,'>800'])\n"
   ]
  },
  {
   "cell_type": "code",
   "execution_count": 25,
   "id": "c2ed9042",
   "metadata": {},
   "outputs": [],
   "source": [
    "words_distribution = data.groupby('bins').size().reset_index(). rename(columns={0:'word_counts'})"
   ]
  },
  {
   "cell_type": "code",
   "execution_count": 28,
   "id": "358b588b",
   "metadata": {},
   "outputs": [
    {
     "data": {
      "text/plain": [
       "Text(0.5, 1.0, 'Word distribution per bin')"
      ]
     },
     "execution_count": 28,
     "metadata": {},
     "output_type": "execute_result"
    },
    {
     "data": {
      "image/png": "[encoded data removed]",
      "text/plain": [
       "<Figure size 640x480 with 1 Axes>"
      ]
     },
     "metadata": {},
     "output_type": "display_data"
    }
   ],
   "source": [
    "sns.barplot(x='bins', y='word_counts', data=words_distribution).set_title (\"Word distribution per bin\")"
   ]
  },
  {
   "cell_type": "code",
   "execution_count": 29,
   "id": "3a4f4627",
   "metadata": {},
   "outputs": [],
   "source": [
    "# Number of missing values in each column\n",
    "missing = pd.DataFrame(data.isnull().sum()).rename(columns = {0:'missing'})"
   ]
  },
  {
   "cell_type": "code",
   "execution_count": 30,
   "id": "eff3dffd",
   "metadata": {},
   "outputs": [],
   "source": [
    "# Create a percentage of missing values\n",
    "missing['percent'] = missing['missing'] / len(data)"
   ]
  },
  {
   "cell_type": "code",
   "execution_count": 32,
   "id": "88ad508b",
   "metadata": {},
   "outputs": [
    {
     "data": {
      "text/html": [
       "<div>\n",
       "<style scoped>\n",
       "    .dataframe tbody tr th:only-of-type {\n",
       "        vertical-align: middle;\n",
       "    }\n",
       "\n",
       "    .dataframe tbody tr th {\n",
       "        vertical-align: top;\n",
       "    }\n",
       "\n",
       "    .dataframe thead th {\n",
       "        text-align: right;\n",
       "    }\n",
       "</style>\n",
       "<table border=\"1\" class=\"dataframe\">\n",
       "  <thead>\n",
       "    <tr style=\"text-align: right;\">\n",
       "      <th></th>\n",
       "      <th>missing</th>\n",
       "      <th>percent</th>\n",
       "    </tr>\n",
       "  </thead>\n",
       "  <tbody>\n",
       "    <tr>\n",
       "      <th>brand</th>\n",
       "      <td>5864</td>\n",
       "      <td>0.29320</td>\n",
       "    </tr>\n",
       "    <tr>\n",
       "      <th>retail_price</th>\n",
       "      <td>78</td>\n",
       "      <td>0.00390</td>\n",
       "    </tr>\n",
       "    <tr>\n",
       "      <th>discounted_price</th>\n",
       "      <td>78</td>\n",
       "      <td>0.00390</td>\n",
       "    </tr>\n",
       "    <tr>\n",
       "      <th>product_specifications</th>\n",
       "      <td>14</td>\n",
       "      <td>0.00070</td>\n",
       "    </tr>\n",
       "    <tr>\n",
       "      <th>image</th>\n",
       "      <td>3</td>\n",
       "      <td>0.00015</td>\n",
       "    </tr>\n",
       "    <tr>\n",
       "      <th>length</th>\n",
       "      <td>2</td>\n",
       "      <td>0.00010</td>\n",
       "    </tr>\n",
       "    <tr>\n",
       "      <th>description</th>\n",
       "      <td>2</td>\n",
       "      <td>0.00010</td>\n",
       "    </tr>\n",
       "    <tr>\n",
       "      <th>uniq_id</th>\n",
       "      <td>0</td>\n",
       "      <td>0.00000</td>\n",
       "    </tr>\n",
       "    <tr>\n",
       "      <th>product_rating</th>\n",
       "      <td>0</td>\n",
       "      <td>0.00000</td>\n",
       "    </tr>\n",
       "    <tr>\n",
       "      <th>no_of_words</th>\n",
       "      <td>0</td>\n",
       "      <td>0.00000</td>\n",
       "    </tr>\n",
       "    <tr>\n",
       "      <th>overall_rating</th>\n",
       "      <td>0</td>\n",
       "      <td>0.00000</td>\n",
       "    </tr>\n",
       "    <tr>\n",
       "      <th>is_FK_Advantage_product</th>\n",
       "      <td>0</td>\n",
       "      <td>0.00000</td>\n",
       "    </tr>\n",
       "    <tr>\n",
       "      <th>crawl_timestamp</th>\n",
       "      <td>0</td>\n",
       "      <td>0.00000</td>\n",
       "    </tr>\n",
       "    <tr>\n",
       "      <th>pid</th>\n",
       "      <td>0</td>\n",
       "      <td>0.00000</td>\n",
       "    </tr>\n",
       "    <tr>\n",
       "      <th>product_category_tree</th>\n",
       "      <td>0</td>\n",
       "      <td>0.00000</td>\n",
       "    </tr>\n",
       "    <tr>\n",
       "      <th>product_name</th>\n",
       "      <td>0</td>\n",
       "      <td>0.00000</td>\n",
       "    </tr>\n",
       "    <tr>\n",
       "      <th>product_url</th>\n",
       "      <td>0</td>\n",
       "      <td>0.00000</td>\n",
       "    </tr>\n",
       "    <tr>\n",
       "      <th>bins</th>\n",
       "      <td>0</td>\n",
       "      <td>0.00000</td>\n",
       "    </tr>\n",
       "  </tbody>\n",
       "</table>\n",
       "</div>"
      ],
      "text/plain": [
       "                         missing  percent\n",
       "brand                       5864  0.29320\n",
       "retail_price                  78  0.00390\n",
       "discounted_price              78  0.00390\n",
       "product_specifications        14  0.00070\n",
       "image                          3  0.00015\n",
       "length                         2  0.00010\n",
       "description                    2  0.00010\n",
       "uniq_id                        0  0.00000\n",
       "product_rating                 0  0.00000\n",
       "no_of_words                    0  0.00000\n",
       "overall_rating                 0  0.00000\n",
       "is_FK_Advantage_product        0  0.00000\n",
       "crawl_timestamp                0  0.00000\n",
       "pid                            0  0.00000\n",
       "product_category_tree          0  0.00000\n",
       "product_name                   0  0.00000\n",
       "product_url                    0  0.00000\n",
       "bins                           0  0.00000"
      ]
     },
     "execution_count": 32,
     "metadata": {},
     "output_type": "execute_result"
    }
   ],
   "source": [
    "# sorting the values in desending order to see highest count on the top \n",
    "missing.sort_values('percent', ascending = False)"
   ]
  },
  {
   "cell_type": "code",
   "execution_count": 33,
   "id": "0d9efa2f",
   "metadata": {},
   "outputs": [],
   "source": [
    "# Remove punctuation\n",
    "data['description'] = data['description'].str.replace(r'[^\\w\\d\\s]', ' ') \n",
    "# Replace whitespace between terms with a single space\n",
    "data['description'] = data['description'].str.replace(r'\\s+', ' ')\n",
    "# Remove leading and trailing whitespace\n",
    "data['description'] = data['description'].str.replace(r'^\\s+|\\s+?$', '') \n",
    "# converting to lower case\n",
    "data['description'] = data['description'].str.lower()"
   ]
  },
  {
   "cell_type": "code",
   "execution_count": 34,
   "id": "5d2d0aa7",
   "metadata": {},
   "outputs": [
    {
     "data": {
      "text/plain": [
       "0    key features of alisha solid women s cycling s...\n",
       "1    fabhomedecor fabric double sofa bed finish col...\n",
       "2    key features of aw bellies sandals wedges heel...\n",
       "3    key features of alisha solid women s cycling s...\n",
       "4    specifications of sicons all purpose arnica do...\n",
       "Name: description, dtype: object"
      ]
     },
     "execution_count": 34,
     "metadata": {},
     "output_type": "execute_result"
    }
   ],
   "source": [
    "data['description'].head()"
   ]
  },
  {
   "cell_type": "code",
   "execution_count": null,
   "id": "e3ad63cc",
   "metadata": {},
   "outputs": [],
   "source": []
  },
  {
   "cell_type": "code",
   "execution_count": null,
   "id": "07e64c74",
   "metadata": {},
   "outputs": [],
   "source": []
  },
  {
   "cell_type": "code",
   "execution_count": null,
   "id": "bd3bcb1f",
   "metadata": {},
   "outputs": [],
   "source": []
  },
  {
   "cell_type": "code",
   "execution_count": null,
   "id": "40ea6ea1",
   "metadata": {},
   "outputs": [],
   "source": []
  }
 ],
 "metadata": {
  "kernelspec": {
   "display_name": "Python 3 (ipykernel)",
   "language": "python",
   "name": "python3"
  },
  "language_info": {
   "codemirror_mode": {
    "name": "ipython",
    "version": 3
   },
   "file_extension": ".py",
   "mimetype": "text/x-python",
   "name": "python",
   "nbconvert_exporter": "python",
   "pygments_lexer": "ipython3",
   "version": "3.9.13"
  }
 },
 "nbformat": 4,
 "nbformat_minor": 5
}
